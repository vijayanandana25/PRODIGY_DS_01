{
 "cells": [
  {
   "cell_type": "code",
   "execution_count": 8,
   "id": "659a52dd-70cd-48f9-aab0-d6e813f3d625",
   "metadata": {},
   "outputs": [
    {
     "data": {
      "text/html": [
       "<div>\n",
       "<style scoped>\n",
       "    .dataframe tbody tr th:only-of-type {\n",
       "        vertical-align: middle;\n",
       "    }\n",
       "\n",
       "    .dataframe tbody tr th {\n",
       "        vertical-align: top;\n",
       "    }\n",
       "\n",
       "    .dataframe thead th {\n",
       "        text-align: right;\n",
       "    }\n",
       "</style>\n",
       "<table border=\"1\" class=\"dataframe\">\n",
       "  <thead>\n",
       "    <tr style=\"text-align: right;\">\n",
       "      <th></th>\n",
       "      <th>Series Name</th>\n",
       "      <th>Series Code</th>\n",
       "      <th>Country Name</th>\n",
       "      <th>Country Code</th>\n",
       "      <th>2022</th>\n",
       "      <th>2021</th>\n",
       "      <th>2020</th>\n",
       "      <th>2019</th>\n",
       "      <th>2018</th>\n",
       "      <th>2017</th>\n",
       "      <th>...</th>\n",
       "      <th>2010</th>\n",
       "      <th>2009</th>\n",
       "      <th>2008</th>\n",
       "      <th>2007</th>\n",
       "      <th>2006</th>\n",
       "      <th>2005</th>\n",
       "      <th>2004</th>\n",
       "      <th>2003</th>\n",
       "      <th>2002</th>\n",
       "      <th>2001</th>\n",
       "    </tr>\n",
       "  </thead>\n",
       "  <tbody>\n",
       "    <tr>\n",
       "      <th>0</th>\n",
       "      <td>Population, total</td>\n",
       "      <td>SP.POP.TOTL</td>\n",
       "      <td>Afghanistan</td>\n",
       "      <td>AFG</td>\n",
       "      <td>41128771.0</td>\n",
       "      <td>40099462.0</td>\n",
       "      <td>38972230.0</td>\n",
       "      <td>37769499.0</td>\n",
       "      <td>36686784.0</td>\n",
       "      <td>35643418.0</td>\n",
       "      <td>...</td>\n",
       "      <td>28189672.0</td>\n",
       "      <td>27385307.0</td>\n",
       "      <td>26427199.0</td>\n",
       "      <td>25903301.0</td>\n",
       "      <td>25442944.0</td>\n",
       "      <td>24411191.0</td>\n",
       "      <td>23553551.0</td>\n",
       "      <td>22645130.0</td>\n",
       "      <td>21000256.0</td>\n",
       "      <td>19688632.0</td>\n",
       "    </tr>\n",
       "    <tr>\n",
       "      <th>1</th>\n",
       "      <td>Population, total</td>\n",
       "      <td>SP.POP.TOTL</td>\n",
       "      <td>Albania</td>\n",
       "      <td>ALB</td>\n",
       "      <td>2775634.0</td>\n",
       "      <td>2811666.0</td>\n",
       "      <td>2837849.0</td>\n",
       "      <td>2854191.0</td>\n",
       "      <td>2866376.0</td>\n",
       "      <td>2873457.0</td>\n",
       "      <td>...</td>\n",
       "      <td>2913021.0</td>\n",
       "      <td>2927519.0</td>\n",
       "      <td>2947314.0</td>\n",
       "      <td>2970017.0</td>\n",
       "      <td>2992547.0</td>\n",
       "      <td>3011487.0</td>\n",
       "      <td>3026939.0</td>\n",
       "      <td>3039616.0</td>\n",
       "      <td>3051010.0</td>\n",
       "      <td>3060173.0</td>\n",
       "    </tr>\n",
       "    <tr>\n",
       "      <th>2</th>\n",
       "      <td>Population, total</td>\n",
       "      <td>SP.POP.TOTL</td>\n",
       "      <td>Algeria</td>\n",
       "      <td>DZA</td>\n",
       "      <td>44903225.0</td>\n",
       "      <td>44177969.0</td>\n",
       "      <td>43451666.0</td>\n",
       "      <td>42705368.0</td>\n",
       "      <td>41927007.0</td>\n",
       "      <td>41136546.0</td>\n",
       "      <td>...</td>\n",
       "      <td>35856344.0</td>\n",
       "      <td>35196037.0</td>\n",
       "      <td>34569592.0</td>\n",
       "      <td>33983827.0</td>\n",
       "      <td>33435080.0</td>\n",
       "      <td>32956690.0</td>\n",
       "      <td>32510186.0</td>\n",
       "      <td>32055883.0</td>\n",
       "      <td>31624696.0</td>\n",
       "      <td>31200985.0</td>\n",
       "    </tr>\n",
       "    <tr>\n",
       "      <th>3</th>\n",
       "      <td>Population, total</td>\n",
       "      <td>SP.POP.TOTL</td>\n",
       "      <td>American Samoa</td>\n",
       "      <td>ASM</td>\n",
       "      <td>44273.0</td>\n",
       "      <td>45035.0</td>\n",
       "      <td>46189.0</td>\n",
       "      <td>47321.0</td>\n",
       "      <td>48424.0</td>\n",
       "      <td>49463.0</td>\n",
       "      <td>...</td>\n",
       "      <td>54849.0</td>\n",
       "      <td>55366.0</td>\n",
       "      <td>55891.0</td>\n",
       "      <td>56383.0</td>\n",
       "      <td>56837.0</td>\n",
       "      <td>57254.0</td>\n",
       "      <td>57626.0</td>\n",
       "      <td>57941.0</td>\n",
       "      <td>58177.0</td>\n",
       "      <td>58324.0</td>\n",
       "    </tr>\n",
       "    <tr>\n",
       "      <th>4</th>\n",
       "      <td>Population, total</td>\n",
       "      <td>SP.POP.TOTL</td>\n",
       "      <td>Andorra</td>\n",
       "      <td>AND</td>\n",
       "      <td>79824.0</td>\n",
       "      <td>79034.0</td>\n",
       "      <td>77700.0</td>\n",
       "      <td>76343.0</td>\n",
       "      <td>75013.0</td>\n",
       "      <td>73837.0</td>\n",
       "      <td>...</td>\n",
       "      <td>71519.0</td>\n",
       "      <td>73852.0</td>\n",
       "      <td>76055.0</td>\n",
       "      <td>78168.0</td>\n",
       "      <td>80221.0</td>\n",
       "      <td>79826.0</td>\n",
       "      <td>76933.0</td>\n",
       "      <td>73907.0</td>\n",
       "      <td>70849.0</td>\n",
       "      <td>67820.0</td>\n",
       "    </tr>\n",
       "  </tbody>\n",
       "</table>\n",
       "<p>5 rows × 26 columns</p>\n",
       "</div>"
      ],
      "text/plain": [
       "         Series Name  Series Code    Country Name Country Code        2022  \\\n",
       "0  Population, total  SP.POP.TOTL     Afghanistan          AFG  41128771.0   \n",
       "1  Population, total  SP.POP.TOTL         Albania          ALB   2775634.0   \n",
       "2  Population, total  SP.POP.TOTL         Algeria          DZA  44903225.0   \n",
       "3  Population, total  SP.POP.TOTL  American Samoa          ASM     44273.0   \n",
       "4  Population, total  SP.POP.TOTL         Andorra          AND     79824.0   \n",
       "\n",
       "         2021        2020        2019        2018        2017  ...  \\\n",
       "0  40099462.0  38972230.0  37769499.0  36686784.0  35643418.0  ...   \n",
       "1   2811666.0   2837849.0   2854191.0   2866376.0   2873457.0  ...   \n",
       "2  44177969.0  43451666.0  42705368.0  41927007.0  41136546.0  ...   \n",
       "3     45035.0     46189.0     47321.0     48424.0     49463.0  ...   \n",
       "4     79034.0     77700.0     76343.0     75013.0     73837.0  ...   \n",
       "\n",
       "         2010        2009        2008        2007        2006        2005  \\\n",
       "0  28189672.0  27385307.0  26427199.0  25903301.0  25442944.0  24411191.0   \n",
       "1   2913021.0   2927519.0   2947314.0   2970017.0   2992547.0   3011487.0   \n",
       "2  35856344.0  35196037.0  34569592.0  33983827.0  33435080.0  32956690.0   \n",
       "3     54849.0     55366.0     55891.0     56383.0     56837.0     57254.0   \n",
       "4     71519.0     73852.0     76055.0     78168.0     80221.0     79826.0   \n",
       "\n",
       "         2004        2003        2002        2001  \n",
       "0  23553551.0  22645130.0  21000256.0  19688632.0  \n",
       "1   3026939.0   3039616.0   3051010.0   3060173.0  \n",
       "2  32510186.0  32055883.0  31624696.0  31200985.0  \n",
       "3     57626.0     57941.0     58177.0     58324.0  \n",
       "4     76933.0     73907.0     70849.0     67820.0  \n",
       "\n",
       "[5 rows x 26 columns]"
      ]
     },
     "execution_count": 8,
     "metadata": {},
     "output_type": "execute_result"
    }
   ],
   "source": [
    "import pandas as pd\n",
    "import numpy as np\n",
    "import matplotlib.pyplot as plt\n",
    "import seaborn as sns\n",
    "df = pd.read_csv(r\"C:\\Users\\nandh\\Downloads\\worldpopulationdata.csv\")\n",
    "df.head()\n"
   ]
  },
  {
   "cell_type": "code",
   "execution_count": 14,
   "id": "2a3eba4a-49ce-4731-8570-acaa1e0cda42",
   "metadata": {},
   "outputs": [
    {
     "name": "stdout",
     "output_type": "stream",
     "text": [
      "<class 'pandas.core.frame.DataFrame'>\n",
      "RangeIndex: 1085 entries, 0 to 1084\n",
      "Data columns (total 26 columns):\n",
      " #   Column        Non-Null Count  Dtype  \n",
      "---  ------        --------------  -----  \n",
      " 0   Series Name   1085 non-null   object \n",
      " 1   Series Code   1085 non-null   object \n",
      " 2   Country Name  1085 non-null   object \n",
      " 3   Country Code  1085 non-null   object \n",
      " 4   2022          1085 non-null   float64\n",
      " 5   2021          1085 non-null   float64\n",
      " 6   2020          1085 non-null   float64\n",
      " 7   2019          1085 non-null   float64\n",
      " 8   2018          1085 non-null   float64\n",
      " 9   2017          1085 non-null   float64\n",
      " 10  2016          1085 non-null   float64\n",
      " 11  2015          1085 non-null   float64\n",
      " 12  2014          1085 non-null   float64\n",
      " 13  2013          1085 non-null   float64\n",
      " 14  2012          1085 non-null   float64\n",
      " 15  2011          1085 non-null   float64\n",
      " 16  2010          1085 non-null   float64\n",
      " 17  2009          1085 non-null   float64\n",
      " 18  2008          1085 non-null   float64\n",
      " 19  2007          1085 non-null   float64\n",
      " 20  2006          1085 non-null   float64\n",
      " 21  2005          1085 non-null   float64\n",
      " 22  2004          1085 non-null   float64\n",
      " 23  2003          1085 non-null   float64\n",
      " 24  2002          1085 non-null   float64\n",
      " 25  2001          1085 non-null   float64\n",
      "dtypes: float64(22), object(4)\n",
      "memory usage: 220.5+ KB\n"
     ]
    }
   ],
   "source": [
    "df.info()"
   ]
  },
  {
   "cell_type": "code",
   "execution_count": 16,
   "id": "2a36ac47-8259-4d92-9ad3-163254c2dbc2",
   "metadata": {},
   "outputs": [
    {
     "data": {
      "text/plain": [
       "0"
      ]
     },
     "execution_count": 16,
     "metadata": {},
     "output_type": "execute_result"
    }
   ],
   "source": [
    "df.duplicated().sum()"
   ]
  },
  {
   "cell_type": "code",
   "execution_count": 18,
   "id": "7b714ac0-480d-4633-8e3a-38aea17f81e3",
   "metadata": {},
   "outputs": [
    {
     "data": {
      "text/plain": [
       "Index(['Series Code', 'Country Name', '2022', '2021', '2020', '2019', '2018',\n",
       "       '2017', '2016', '2015', '2014', '2013', '2012', '2011', '2010', '2009',\n",
       "       '2008', '2007', '2006', '2005', '2004', '2003', '2002', '2001'],\n",
       "      dtype='object')"
      ]
     },
     "execution_count": 18,
     "metadata": {},
     "output_type": "execute_result"
    }
   ],
   "source": [
    "df.drop(['Series Name','Country Code'],axis=1,inplace=True)\n",
    "df.columns"
   ]
  },
  {
   "cell_type": "code",
   "execution_count": 20,
   "id": "49a1b70b-33b8-401e-a26e-1d2c6cb751a0",
   "metadata": {},
   "outputs": [
    {
     "name": "stdout",
     "output_type": "stream",
     "text": [
      "Top ten countries of total population\n",
      "\n",
      "           Country Name\n",
      "89                India\n",
      "41                China\n",
      "206       United States\n",
      "90            Indonesia\n",
      "149            Pakistan\n",
      "144             Nigeria\n",
      "26               Brazil\n",
      "15           Bangladesh\n",
      "161  Russian Federation\n",
      "127              Mexico\n"
     ]
    }
   ],
   "source": [
    "# Filter data for total population\n",
    "total_population_data = df[df['Series Code'] == 'SP.POP.TOTL']\n",
    "\n",
    "# Sort data based on the total population for 2022\n",
    "total_population_sorted = total_population_data.sort_values(by=\"2022\", ascending=False)\n",
    "\n",
    "# Get the top ten countries with the highest total population for 2022\n",
    "total_top_ten_countries = total_population_sorted.head(10)\n",
    "print(\"Top ten countries of total population\\n\")\n",
    "print(total_top_ten_countries[['Country Name']] )"
   ]
  },
  {
   "cell_type": "code",
   "execution_count": 38,
   "id": "a0190d9b-43f9-4edc-b086-9494c0ff071b",
   "metadata": {},
   "outputs": [
    {
     "data": {
      "image/png": "[encoded data removed]",
      "text/plain": [
       "<Figure size 1500x600 with 1 Axes>"
      ]
     },
     "metadata": {},
     "output_type": "display_data"
    }
   ],
   "source": [
    "# Create the bar plot\n",
    "plt.figure(figsize=(15, 6))\n",
    "plt.subplot(2,2,1)\n",
    "sns.barplot(x=\"2022\", y=\"Country Name\", data=total_top_ten_countries)\n",
    "plt.title(\"Top Ten Countries of Total Population (2022)\",fontsize=10)\n",
    "plt.xlabel(\"Total Population\",fontsize=10)\n",
    "plt.ylabel(\"Country\",fontsize=10)\n",
    "plt.show()\n"
   ]
  },
  {
   "cell_type": "code",
   "execution_count": 28,
   "id": "42ff746c-af1b-4a6e-8888-a50b5da42421",
   "metadata": {},
   "outputs": [
    {
     "name": "stdout",
     "output_type": "stream",
     "text": [
      "Bottom ten countries of total population\n",
      "\n",
      "                 Country Name\n",
      "201                    Tuvalu\n",
      "137                     Nauru\n",
      "150                     Palau\n",
      "27     British Virgin Islands\n",
      "183  St. Martin (French part)\n",
      "75                  Gibraltar\n",
      "164                San Marino\n",
      "130                    Monaco\n",
      "114             Liechtenstein\n",
      "124          Marshall Islands\n"
     ]
    }
   ],
   "source": [
    "# Sort data based on the total population for 2022\n",
    "total_population_sorted1 = total_population_data.sort_values(by=\"2022\", ascending=True)\n",
    "\n",
    "# Get the bottom ten countries with the highest total population for 2022\n",
    "total_bottom_ten_countries = total_population_sorted1.head(10)\n",
    "print(\"Bottom ten countries of total population\\n\")\n",
    "print(total_bottom_ten_countries[['Country Name']] )"
   ]
  },
  {
   "cell_type": "code",
   "execution_count": 40,
   "id": "e5044fba-1228-4945-8a0f-95664d89751d",
   "metadata": {},
   "outputs": [
    {
     "data": {
      "image/png": "[encoded data removed]",
      "text/plain": [
       "<Figure size 1500x600 with 1 Axes>"
      ]
     },
     "metadata": {},
     "output_type": "display_data"
    }
   ],
   "source": [
    "# Create the bar plot\n",
    "plt.figure(figsize=(15, 6))\n",
    "plt.subplot(2,2,1)\n",
    "sns.barplot(x=\"2010\", y=\"Country Name\", data=total_bottom_ten_countries, palette=\"coolwarm\",hue=\"Country Name\",legend=False)\n",
    "plt.title(\"Top Ten Countries of Total Population (2010)\",fontsize=10)\n",
    "plt.xlabel(\"Total Population\",fontsize=10)\n",
    "plt.ylabel(\"Country\",fontsize=10)\n",
    "plt.show()\n"
   ]
  },
  {
   "cell_type": "code",
   "execution_count": null,
   "id": "f5e8c390-63e9-41aa-b7f9-e67977e399ff",
   "metadata": {},
   "outputs": [],
   "source": []
  }
 ],
 "metadata": {
  "kernelspec": {
   "display_name": "Python 3 (ipykernel)",
   "language": "python",
   "name": "python3"
  },
  "language_info": {
   "codemirror_mode": {
    "name": "ipython",
    "version": 3
   },
   "file_extension": ".py",
   "mimetype": "text/x-python",
   "name": "python",
   "nbconvert_exporter": "python",
   "pygments_lexer": "ipython3",
   "version": "3.12.4"
  }
 },
 "nbformat": 4,
 "nbformat_minor": 5
}
